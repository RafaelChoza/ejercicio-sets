{
 "cells": [
  {
   "cell_type": "code",
   "execution_count": 34,
   "id": "d0c1cda8",
   "metadata": {},
   "outputs": [
    {
     "name": "stdout",
     "output_type": "stream",
     "text": [
      "{'D00D', '6BBB', '99D9', 'B555', '33CC', 'D8DD', '999A', '9D99', '1C1C', 'CC1C', 'BB5B', 'C2CC', '00BB', '8BBB', '00A0', 'C000', 'A666', '3D3D', '6DD6', 'C22C', '777B', 'D55D', 'AA2A', '666C', '44C4', '5CC5', '0000', '8D8D', 'BB3B', 'AAA5', 'D3DD', 'DDD9', '4C4C', '00B0', '222D', 'DD44', '55B5', '6CCC', '7777', '3A33', 'AA00', '1CCC', 'B0BB', 'D6DD', 'BB00', '5B5B', '5D5D', 'DDD3', '11B1', '7DD7', '8888', '99B9', 'A000', 'BB55', 'CCC3', 'CC22', '2BBB', '44A4', 'C6CC', 'DDD0', 'AAA6', 'BB8B', 'A4AA', 'C00C', '44BB', '3C33', 'CC6C', '777C', '555A', 'BBB3', '44AA', '8D88', '4CC4', 'C8CC', 'A999', 'B99B', '222C', '1DDD', '2C2C', 'D1DD', 'C999', '77A7', '22B2', '9C99', '4AA4', '77BB', '33BB', 'A66A', '7B7B', 'A88A', 'A11A', '9C9C', '0D00', 'C777', '33DD', '111D', '9AAA', 'CC9C', '22AA', 'B3BB', 'D555', '1B11', 'AA5A', '11DD', '7BBB', '888B', 'BB1B', '1AAA', 'CCC7', 'DD77', '0AA0', 'CC3C', '22A2', 'CC55', '8C88', '88D8', '111A', 'D111', 'DD2D', 'CCCC', '9D9D', '8A88', 'CC8C', '77D7', 'A44A', 'BB2B', 'AAAA', '9A99', 'B7BB', '5CCC', '77DD', '99CC', '9CC9', 'A444', '9CCC', '77C7', '66A6', '9DDD', '777A', '11BB', '8AAA', '3DD3', '444A', 'AAA7', 'DD9D', '99DD', '6D66', 'D888', '1DD1', '66DD', '44DD', 'CC88', 'C444', '2222', 'DD55', '9BBB', 'A99A', 'DD0D', '5DDD', 'AA1A', 'AA6A', 'AAA9', '555C', '4BBB', 'DD8D', 'AA33', '66C6', 'A1AA', '2CCC', '7C77', '2DD2', '111B', 'DD99', 'D777', '3DDD', '1CC1', '8B8B', 'BBB4', '4BB4', 'C4CC', 'A222', '99C9', 'AAA1', '6D6D', 'A33A', '22C2', 'B999', 'DD1D', '3D33', '88AA', '222A', '1D1D', 'DDD4', 'DDD8', '00CC', 'C88C', 'BB9B', 'D9DD', 'D66D', 'B111', '5C55', 'C666', '55AA', 'CC77', '3BBB', '222B', '8C8C', '7CCC', 'BB77', 'AA44', 'BBB0', 'B777', '9AA9', '2AAA', '8CCC', 'DDD2', '22DD', '99A9', 'CCC4', 'BB88', '11CC', '888D', 'C7CC', 'AA3A', 'BB7B', '4DD4', '9A9A', 'C1CC', '88B8', '333B', '55DD', 'CCC2', '2AA2', '7AAA', 'AAA4', '3333', '5555', 'BB6B', 'A888', '88C8', '5BB5', 'BB0B', '0AAA', '33B3', '44B4', '77CC', 'C66C', '6A66', '7A7A', '333D', '7AA7', '5A5A', '11D1', '7CC7', 'C555', 'D444', '33D3', 'BB66', 'DD33', '66B6', '888A', 'AA4A', 'B9BB', 'DDD5', 'BBB7', 'C333', 'AA7A', '2A2A', '55C5', '1A1A', '6AAA', 'C111', 'D99D', '000D', 'BBB1', '3C3C', 'DD66', '6C66', 'BB4B', 'B00B', '7B77', 'A555', 'AA22', '000A', '33AA', '5AAA', '3AA3', 'CC4C', 'B8BB', '88DD', 'D333', '55A5', 'CC99', '0A0A', 'AA8A', '44D4', '444D', '5DD5', '3AAA', '8B88', '666A', 'CC5C', 'D666', '88BB', '99AA', '3B33', 'BBB8', '4AAA', 'B44B', '8AA8', '9DD9', 'BB44', '66D6', 'DD00', '333C', '88CC', '4D4D', 'AA0A', '4B4B', '555B', 'B000', '22BB', '2CC2', 'B333', 'B444', 'B22B', 'C99C', 'D222', '8BB8', '9BB9', 'DD22', 'CC2C', '1A11', '0B0B', 'DD6D', 'C0CC', '1B1B', '2A22', 'A00A', 'BBB2', 'CCC6', '4C44', 'BB33', 'A333', 'C3CC', 'B5BB', '00D0', 'C11C', '0BBB', 'A77A', 'CCC9', 'D0DD', 'A7AA', 'A8AA', 'D999', 'B77B', '44CC', 'D2DD', '3B3B', 'DDD7', 'AAA0', '88A8', 'BBBB', 'A5AA', '2B22', 'AA77', 'AAA8', '6B6B', '0C00', 'D44D', 'D000', 'B11B', 'BB22', '0B00', 'A111', '4D44', '77AA', '5B55', 'C888', 'C44C', 'D33D', '6BB6', '8DDD', 'AAA3', '0A00', 'D22D', 'DD3D', 'BB99', '00AA', 'A2AA', 'CC66', '9B9B', 'CC44', 'AA88', '8A8A', '66CC', '777D', 'AA55', '000C', 'C77C', 'D77D', '111C', '444B', '3A3A', 'A9AA', 'D11D', '11AA', '7A77', '0CCC', '2D22', '11A1', 'A6AA', '666D', 'A0AA', '1BBB', 'CC7C', '7D7D', '4A4A', '555D', '66AA', 'B4BB', '7BB7', 'BBB9', '6CC6', '00DD', 'AA11', '33A3', 'AA99', '999C', '1D11', 'A55A', '11C1', '5AA5', 'B66B', '2C22', '000B', '0BB0', '888C', 'BBB6', '6AA6', '2BB2', '3CCC', 'C33C', '6C6C', '5BBB', 'AA9A', 'B33B', '00C0', '0D0D', 'B222', 'C55C', '9999', 'B55B', 'C222', '8DD8', '5D55', '7DDD', '0C0C', 'B1BB', '2D2D', '999B', 'B6BB', 'D4DD', 'CC00', '1111', 'D7DD', '444C', 'BB11', '55CC', '666B', '3CC3', '5A55', 'A22A', '33C3', '6B66', 'C9CC', 'B666', '22D2', 'DD7D', '1AA1', 'A777', '2B2B', '6666', 'D5DD', '4444', 'B88B', '4A44', '66BB', '2DDD', '1C11', '0DD0', '22CC', '333A', '7C7C', 'C5CC', '4DDD', 'CC0C', 'A3AA', 'DDD6', 'DDD1', 'AA66', 'DD88', 'DD4D', 'CCC0', 'DD5D', '7D77', '5C5C', 'D88D', 'AAA2', '3BB3', '4CCC', '55D5', 'DD11', 'B888', 'CC11', 'B2BB', 'BBB5', '1BB1', 'CC33', 'CCC1', 'CCC8', '9B99', '99BB', 'CCC5', '6A6A', '6DDD', '999D', '77B7', '4B44', '0DDD', 'DDDD', '8CC8', '0CC0', '55BB'}\n"
     ]
    }
   ],
   "source": [
    "numbers = ['0', '1', '2', '3', '4', '5', '6', '7', '8', '9'] \n",
    "letters = ['A', 'B', 'C', 'D']\n",
    "\n",
    "unique_combinations = set()\n",
    "for number in numbers:    \n",
    "    for letter in letters:        \n",
    "        unique_combinations.add(\"{}{}{}{}\".format(number,number,number,number))\n",
    "        unique_combinations.add(\"{}{}{}{}\".format(number,number,number,letter))\n",
    "        unique_combinations.add(\"{}{}{}{}\".format(number,number,letter,number))\n",
    "        unique_combinations.add(\"{}{}{}{}\".format(number,letter,number,number))\n",
    "        unique_combinations.add(\"{}{}{}{}\".format(letter,number,number,number))\n",
    "        unique_combinations.add(\"{}{}{}{}\".format(letter,letter,letter,number))\n",
    "        unique_combinations.add(\"{}{}{}{}\".format(letter,letter,number,letter))\n",
    "        unique_combinations.add(\"{}{}{}{}\".format(letter,number,letter,letter))\n",
    "        unique_combinations.add(\"{}{}{}{}\".format(number,letter,letter,letter))\n",
    "        unique_combinations.add(\"{}{}{}{}\".format(number,number,letter,letter))\n",
    "        unique_combinations.add(\"{}{}{}{}\".format(number,letter,letter,number))\n",
    "        unique_combinations.add(\"{}{}{}{}\".format(letter,letter,number,number))\n",
    "        unique_combinations.add(\"{}{}{}{}\".format(letter,number,number,letter))\n",
    "        unique_combinations.add(\"{}{}{}{}\".format(number,letter,number,letter))\n",
    "        unique_combinations.add(\"{}{}{}{}\".format(number,number,number,number))\n",
    "        unique_combinations.add(\"{}{}{}{}\".format(number,number,number,number))\n",
    "        unique_combinations.add(\"{}{}{}{}\".format(number,number,number,number))\n",
    "        unique_combinations.add(\"{}{}{}{}\".format(number,number,number,number))\n",
    "        unique_combinations.add(\"{}{}{}{}\".format(number,number,number,number))\n",
    "        unique_combinations.add(\"{}{}{}{}\".format(letter,letter,letter,letter))\n",
    "        \n",
    "print(unique_combinations)"
   ]
  },
  {
   "cell_type": "code",
   "execution_count": null,
   "id": "3ac5a96b",
   "metadata": {},
   "outputs": [],
   "source": []
  },
  {
   "cell_type": "code",
   "execution_count": null,
   "id": "3494b1d2",
   "metadata": {},
   "outputs": [],
   "source": []
  }
 ],
 "metadata": {
  "kernelspec": {
   "display_name": "Python 3 (ipykernel)",
   "language": "python",
   "name": "python3"
  },
  "language_info": {
   "codemirror_mode": {
    "name": "ipython",
    "version": 3
   },
   "file_extension": ".py",
   "mimetype": "text/x-python",
   "name": "python",
   "nbconvert_exporter": "python",
   "pygments_lexer": "ipython3",
   "version": "3.11.7"
  }
 },
 "nbformat": 4,
 "nbformat_minor": 5
}
